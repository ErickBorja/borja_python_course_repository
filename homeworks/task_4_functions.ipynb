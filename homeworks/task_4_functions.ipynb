{
 "cells": [
  {
   "cell_type": "markdown",
   "id": "28794107",
   "metadata": {},
   "source": [
    "# Create a function to evalue the absolute value"
   ]
  },
  {
   "cell_type": "code",
   "execution_count": 4,
   "id": "b7f1c9ad",
   "metadata": {},
   "outputs": [],
   "source": [
    "def absolute_value (x):\n",
    "    if x < 0:\n",
    "        return -x\n",
    "    else: \n",
    "        return x    "
   ]
  },
  {
   "cell_type": "markdown",
   "id": "eae2b25b",
   "metadata": {},
   "source": [
    "## Print results to absolute value of \"x\""
   ]
  },
  {
   "cell_type": "code",
   "execution_count": 8,
   "id": "1a57480f",
   "metadata": {},
   "outputs": [
    {
     "name": "stdout",
     "output_type": "stream",
     "text": [
      "3\n",
      "3\n",
      "1\n"
     ]
    }
   ],
   "source": [
    "print(absolute_value (3))\n",
    "print(absolute_value (-3))\n",
    "print(absolute_value (-1))"
   ]
  }
 ],
 "metadata": {
  "kernelspec": {
   "display_name": "base",
   "language": "python",
   "name": "python3"
  },
  "language_info": {
   "codemirror_mode": {
    "name": "ipython",
    "version": 3
   },
   "file_extension": ".py",
   "mimetype": "text/x-python",
   "name": "python",
   "nbconvert_exporter": "python",
   "pygments_lexer": "ipython3",
   "version": "3.13.5"
  }
 },
 "nbformat": 4,
 "nbformat_minor": 5
}
