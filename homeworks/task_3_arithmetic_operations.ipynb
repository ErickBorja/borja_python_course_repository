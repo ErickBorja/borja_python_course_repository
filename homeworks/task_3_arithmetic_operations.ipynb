{
 "cells": [
  {
   "cell_type": "markdown",
   "id": "4b23a1f0",
   "metadata": {},
   "source": [
    "# Define variables"
   ]
  },
  {
   "cell_type": "code",
   "execution_count": 3,
   "id": "56460245",
   "metadata": {},
   "outputs": [],
   "source": [
    "x = 5\n",
    "y = 3"
   ]
  },
  {
   "cell_type": "markdown",
   "id": "73e1ec54",
   "metadata": {},
   "source": [
    "# Define arithmetic operations "
   ]
  },
  {
   "cell_type": "code",
   "execution_count": 4,
   "id": "de380230",
   "metadata": {},
   "outputs": [],
   "source": [
    "a = x + y\n",
    "b = x - y\n",
    "c = x * y\n",
    "d = x/y"
   ]
  },
  {
   "cell_type": "markdown",
   "id": "26c2566b",
   "metadata": {},
   "source": [
    "# Print results"
   ]
  },
  {
   "cell_type": "code",
   "execution_count": 8,
   "id": "48f97443",
   "metadata": {},
   "outputs": [
    {
     "name": "stdout",
     "output_type": "stream",
     "text": [
      "a = 8, b = 2, c = 15, d = 1.6666666666666667\n"
     ]
    }
   ],
   "source": [
    "print(f\"a = {a}, b = {b}, c = {c}, d = {d}\")"
   ]
  }
 ],
 "metadata": {
  "kernelspec": {
   "display_name": "base",
   "language": "python",
   "name": "python3"
  },
  "language_info": {
   "codemirror_mode": {
    "name": "ipython",
    "version": 3
   },
   "file_extension": ".py",
   "mimetype": "text/x-python",
   "name": "python",
   "nbconvert_exporter": "python",
   "pygments_lexer": "ipython3",
   "version": "3.13.5"
  }
 },
 "nbformat": 4,
 "nbformat_minor": 5
}
